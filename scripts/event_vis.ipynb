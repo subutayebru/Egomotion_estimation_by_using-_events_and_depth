{
 "cells": [
  {
   "cell_type": "code",
   "execution_count": 1,
   "id": "9894a61c",
   "metadata": {},
   "outputs": [],
   "source": [
    "import csv\n",
    "import numpy as np\n",
    "import pandas as pd\n",
    "from sklearn import preprocessing\n",
    "from matplotlib import pyplot as plt\n",
    "import matplotlib.cm as cm\n",
    "import matplotlib.animation as animation\n",
    "import scipy.misc\n",
    "import os\n",
    "import glob\n",
    "import file_path"
   ]
  },
  {
   "cell_type": "code",
   "execution_count": 2,
   "id": "60dfa6fa",
   "metadata": {},
   "outputs": [],
   "source": [
    "x = []\n",
    "y = []\n",
    "x_pixel = []\n",
    "y_pixel = []\n",
    "depth = [] #depth\n",
    "pol = []\n",
    "time_stamp = []\n",
    "X_color = []\n",
    "Y_color = []\n",
    "\n",
    "#events.tsv: A TSV file where each row corresponds to one event.\n",
    "# Provided data is: PrimeSense image coordinates (x,y), PrimeSense depth measurement,\n",
    "# EDVS image coordinates (x,y), Timestamp (in microsenconds), EDVS parity flag"
   ]
  },
  {
   "cell_type": "code",
   "execution_count": 3,
   "id": "76607293",
   "metadata": {},
   "outputs": [
    {
     "name": "stdout",
     "output_type": "stream",
     "text": [
      "/home/bru/Dev/DATA/scn2c_take01/take01/events.csv\n",
      "['369', '388', '1776', '76', '103', '8409', '1']\n"
     ]
    }
   ],
   "source": [
    "base_directory = r\"/home/bru/Dev/DATA/scn2c_take01/take01/\"\n",
    "filename = \"events.csv\" \n",
    "full_path = file_path.file_path(base_directory, filename)\n",
    "\n",
    "print(full_path)\n",
    "\n",
    "with open(full_path, encoding=\"Latin-1\") as csvfile:\n",
    "    reader = list(csv.reader(csvfile, delimiter=\",\"))\n",
    "print(reader[0])\n",
    "num_events = len(reader)\n",
    "num_events_batch = 5000\n",
    "#print('reader length',num_events)\n",
    "for i in range(1,num_events):\n",
    "    X_color.append((reader[i][0]))\n",
    "    Y_color.append((reader[i][1]))\n",
    "    depth.append((reader[i][2]))\n",
    "    x.append(((int(reader[i][3])/128)-0.5)*1000) # convert x_pixels to x in millimeters (according to camera intrinsics of DAVIS128) K = [128, 0, 64; 0, 128, 64; 0, 0, 1]\n",
    "    y.append(((int(reader[i][4])/128)-0.5)*1000) # convert y_pixels to y in millimeters\n",
    "    x_pixel.append(int(reader[i][3])) \n",
    "    y_pixel.append(int(reader[i][4]))\n",
    "    time_stamp.append((reader[i][5]))\n",
    "    pol.append(reader[i][6])\n",
    "    \n",
    "\n",
    "img_size = (130, 130)\n",
    "\n",
    "iEv = 0\n",
    "iBatch = 0\n"
   ]
  },
  {
   "cell_type": "code",
   "execution_count": 4,
   "id": "1260baa1",
   "metadata": {},
   "outputs": [
    {
     "name": "stdout",
     "output_type": "stream",
     "text": [
      "4463.0 510.0\n"
     ]
    }
   ],
   "source": [
    "img = np.zeros(img_size, np.int32) #np.array\n",
    "count = np.zeros(img_size, np.int32)\n",
    "\n",
    "depth = np.array(depth)\n",
    "depth = depth.astype(float)\n",
    "Max_depth = depth.max()\n",
    "Min_depth = depth.min()\n",
    "print(Max_depth,Min_depth)"
   ]
  },
  {
   "cell_type": "code",
   "execution_count": 7,
   "id": "040be4bc",
   "metadata": {},
   "outputs": [
    {
     "name": "stdout",
     "output_type": "stream",
     "text": [
      "-335.9375 <class 'float'>\n",
      "<class 'list'>\n",
      "<class 'numpy.ndarray'>\n"
     ]
    }
   ],
   "source": [
    "print(x[1],type(x[1]))\n",
    "print(type(y))\n",
    "print(type(depth))"
   ]
  },
  {
   "cell_type": "code",
   "execution_count": 8,
   "id": "929a4365",
   "metadata": {},
   "outputs": [
    {
     "ename": "IndexError",
     "evalue": "index -335 is out of bounds for axis 1 with size 130",
     "output_type": "error",
     "traceback": [
      "\u001b[0;31m---------------------------------------------------------------------------\u001b[0m",
      "\u001b[0;31mIndexError\u001b[0m                                Traceback (most recent call last)",
      "\u001b[0;32m/tmp/ipykernel_23869/1971887887.py\u001b[0m in \u001b[0;36m<module>\u001b[0;34m\u001b[0m\n\u001b[1;32m      1\u001b[0m \u001b[0;32mfor\u001b[0m \u001b[0mi\u001b[0m \u001b[0;32min\u001b[0m \u001b[0mrange\u001b[0m\u001b[0;34m(\u001b[0m\u001b[0mnum_events_batch\u001b[0m\u001b[0;34m)\u001b[0m\u001b[0;34m:\u001b[0m\u001b[0;34m\u001b[0m\u001b[0;34m\u001b[0m\u001b[0m\n\u001b[1;32m      2\u001b[0m     \u001b[0;31m# Need to convert the polarity bit from {0,1} to {-1,+1} and accumulate\u001b[0m\u001b[0;34m\u001b[0m\u001b[0;34m\u001b[0m\u001b[0m\n\u001b[0;32m----> 3\u001b[0;31m     \u001b[0mimg\u001b[0m\u001b[0;34m[\u001b[0m\u001b[0mint\u001b[0m\u001b[0;34m(\u001b[0m\u001b[0my\u001b[0m\u001b[0;34m[\u001b[0m\u001b[0mi\u001b[0m\u001b[0;34m]\u001b[0m\u001b[0;34m)\u001b[0m\u001b[0;34m,\u001b[0m\u001b[0mint\u001b[0m\u001b[0;34m(\u001b[0m\u001b[0mx\u001b[0m\u001b[0;34m[\u001b[0m\u001b[0mi\u001b[0m\u001b[0;34m]\u001b[0m\u001b[0;34m)\u001b[0m\u001b[0;34m]\u001b[0m \u001b[0;34m+=\u001b[0m \u001b[0;34m(\u001b[0m\u001b[0mint\u001b[0m\u001b[0;34m(\u001b[0m\u001b[0mdepth\u001b[0m\u001b[0;34m[\u001b[0m\u001b[0mi\u001b[0m\u001b[0;34m]\u001b[0m\u001b[0;34m)\u001b[0m\u001b[0;34m)\u001b[0m\u001b[0;34m\u001b[0m\u001b[0;34m\u001b[0m\u001b[0m\n\u001b[0m\u001b[1;32m      4\u001b[0m     \u001b[0mcount\u001b[0m\u001b[0;34m[\u001b[0m\u001b[0mint\u001b[0m\u001b[0;34m(\u001b[0m\u001b[0my\u001b[0m\u001b[0;34m[\u001b[0m\u001b[0mi\u001b[0m\u001b[0;34m]\u001b[0m\u001b[0;34m)\u001b[0m\u001b[0;34m,\u001b[0m\u001b[0mint\u001b[0m\u001b[0;34m(\u001b[0m\u001b[0mx\u001b[0m\u001b[0;34m[\u001b[0m\u001b[0mi\u001b[0m\u001b[0;34m]\u001b[0m\u001b[0;34m)\u001b[0m\u001b[0;34m]\u001b[0m \u001b[0;34m+=\u001b[0m \u001b[0;36m1\u001b[0m\u001b[0;34m\u001b[0m\u001b[0;34m\u001b[0m\u001b[0m\n\u001b[1;32m      5\u001b[0m \u001b[0;34m\u001b[0m\u001b[0m\n",
      "\u001b[0;31mIndexError\u001b[0m: index -335 is out of bounds for axis 1 with size 130"
     ]
    }
   ],
   "source": [
    "for i in range(num_events_batch):\n",
    "    # Need to convert the polarity bit from {0,1} to {-1,+1} and accumulate\n",
    "    img[int(y[i]),int(x[i])] += (int(depth[i]))\n",
    "    count[int(y[i]),int(x[i])] += 1\n",
    "\n",
    "# Compute per-pixel average if count at the pixel is >1\n",
    "count[count < 1] = 1  # to avoid division by zero\n",
    "#img = img / count*2\n",
    "print(img)"
   ]
  },
  {
   "cell_type": "code",
   "execution_count": null,
   "id": "07cc4ba8",
   "metadata": {},
   "outputs": [],
   "source": [
    "fig = plt.figure()\n",
    "fig.suptitle(num_events_batch)\n",
    "#maxabsval = np.amax(np.abs(img))\n",
    "#print(maxabsval)\n",
    "plt.imshow(img,cmap='gray', clim=(Min_depth,Max_depth))\n",
    "plt.xlabel(\"x [pixels]\")\n",
    "plt.ylabel(\"y [pixels]\")\n",
    "plt.colorbar()\n",
    "plt.show()"
   ]
  },
  {
   "cell_type": "code",
   "execution_count": null,
   "id": "63fec0eb",
   "metadata": {},
   "outputs": [],
   "source": []
  },
  {
   "cell_type": "code",
   "execution_count": null,
   "id": "c65dbe39",
   "metadata": {},
   "outputs": [],
   "source": [
    "\n",
    "\n",
    "iEv = 0\n",
    "\n"
   ]
  },
  {
   "cell_type": "code",
   "execution_count": 13,
   "id": "d5d8db78",
   "metadata": {},
   "outputs": [
    {
     "ename": "IndexError",
     "evalue": "list index out of range",
     "output_type": "error",
     "traceback": [
      "\u001b[0;31m---------------------------------------------------------------------------\u001b[0m",
      "\u001b[0;31mIndexError\u001b[0m                                Traceback (most recent call last)",
      "\u001b[0;32m/tmp/ipykernel_2928/1842672335.py\u001b[0m in \u001b[0;36m<module>\u001b[0;34m\u001b[0m\n\u001b[1;32m     21\u001b[0m     \u001b[0;32mfor\u001b[0m \u001b[0mi\u001b[0m \u001b[0;32min\u001b[0m \u001b[0mrange\u001b[0m\u001b[0;34m(\u001b[0m\u001b[0mnum_events_batch\u001b[0m\u001b[0;34m)\u001b[0m\u001b[0;34m:\u001b[0m\u001b[0;34m\u001b[0m\u001b[0;34m\u001b[0m\u001b[0m\n\u001b[1;32m     22\u001b[0m         \u001b[0;31m# Need to convert the polarity bit from {0,1} to {-1,+1} and accumulate\u001b[0m\u001b[0;34m\u001b[0m\u001b[0;34m\u001b[0m\u001b[0m\n\u001b[0;32m---> 23\u001b[0;31m         \u001b[0mimg\u001b[0m\u001b[0;34m[\u001b[0m\u001b[0mint\u001b[0m\u001b[0;34m(\u001b[0m\u001b[0my_batch\u001b[0m\u001b[0;34m[\u001b[0m\u001b[0mi\u001b[0m\u001b[0;34m]\u001b[0m\u001b[0;34m)\u001b[0m\u001b[0;34m,\u001b[0m\u001b[0mint\u001b[0m\u001b[0;34m(\u001b[0m\u001b[0mx_batch\u001b[0m\u001b[0;34m[\u001b[0m\u001b[0mi\u001b[0m\u001b[0;34m]\u001b[0m\u001b[0;34m)\u001b[0m\u001b[0;34m]\u001b[0m \u001b[0;34m+=\u001b[0m \u001b[0;34m(\u001b[0m\u001b[0mint\u001b[0m\u001b[0;34m(\u001b[0m\u001b[0mdepth_batch\u001b[0m\u001b[0;34m[\u001b[0m\u001b[0mi\u001b[0m\u001b[0;34m]\u001b[0m\u001b[0;34m)\u001b[0m\u001b[0;34m)\u001b[0m\u001b[0;34m\u001b[0m\u001b[0;34m\u001b[0m\u001b[0m\n\u001b[0m\u001b[1;32m     24\u001b[0m         \u001b[0mcount\u001b[0m\u001b[0;34m[\u001b[0m\u001b[0mint\u001b[0m\u001b[0;34m(\u001b[0m\u001b[0my_batch\u001b[0m\u001b[0;34m[\u001b[0m\u001b[0mi\u001b[0m\u001b[0;34m]\u001b[0m\u001b[0;34m)\u001b[0m\u001b[0;34m,\u001b[0m\u001b[0mint\u001b[0m\u001b[0;34m(\u001b[0m\u001b[0mx_batch\u001b[0m\u001b[0;34m[\u001b[0m\u001b[0mi\u001b[0m\u001b[0;34m]\u001b[0m\u001b[0;34m)\u001b[0m\u001b[0;34m]\u001b[0m \u001b[0;34m+=\u001b[0m \u001b[0;36m1\u001b[0m\u001b[0;34m\u001b[0m\u001b[0;34m\u001b[0m\u001b[0m\n\u001b[1;32m     25\u001b[0m \u001b[0;34m\u001b[0m\u001b[0m\n",
      "\u001b[0;31mIndexError\u001b[0m: list index out of range"
     ]
    }
   ],
   "source": [
    "from PIL import Image\n",
    "iEv = 0\n",
    "iBatch = 0\n",
    "while True:\n",
    "    # Check ıf we have processed all events\n",
    "    if (iEv + num_events_batch > num_events):\n",
    "        break\n",
    "\n",
    "    # Select subset of events or data\n",
    "    iEv += num_events_batch\n",
    "    iBatch += 1\n",
    "    depth_batch = depth[iEv+0:iEv+num_events_batch]\n",
    "    x_batch = x_pixel[iEv+0:iEv+num_events_batch]\n",
    "    y_batch = y_pixel[iEv+0:iEv+num_events_batch]\n",
    "    #pol\n",
    "    #print('x length ', len(x_batch))\n",
    "\n",
    "    # Reset ımage\n",
    "    img = np.zeros(img_size, int) #np.array\n",
    "    count = np.zeros(img_size, int)\n",
    "    for i in range(num_events_batch):\n",
    "        # Need to convert the polarity bit from {0,1} to {-1,+1} and accumulate\n",
    "        img[int(y_batch[i]),int(x_batch[i])] += (int(depth_batch[i]))\n",
    "        count[int(y_batch[i]),int(x_batch[i])] += 1\n",
    "\n",
    "    # Compute per-pixel average if count at the pixel is >1\n",
    "    count[count < 1] = 1  # to avoid division by zero\n",
    "    img = img / count*2\n",
    "\n",
    "    # Save ımage\n",
    "    filename = r\"images/depth_event_%08d.png\" % iBatch\n",
    "    img_path = file_path.file_path(base_directory, filename)\n",
    "    #print(np.shape(img))\n",
    "    #print(iBatch)\n",
    "    img8 = (255-(img/Max_depth)*255).astype(np.ubyte)\n",
    "    img8_r = ((img/Max_depth)*255).astype(np.uint8)\n",
    "    img = (255-img)\n",
    "\n",
    "    #plt.imsave(filename, img8_r.astype(np.uint8), cmap='jet_r', origin=(Min_depth,Max_depth))  \n",
    "    plt.imsave(img_path, img8_r.astype(np.uint8), cmap='jet_r', origin=(Min_depth,Max_depth))   \n",
    "\n",
    "    #input_path = r\"/home/bru/scn3_take07/images/depth_event_%08d.png\" % iBatch # input image path\n",
    "    filename = r\"images_nobg/depth_event_nobg_%08d.png\" % iBatch\n",
    "    nobg_img_path = file_path.file_path(base_directory, filename)\n",
    "    input_array = Image.open(img_path) # load image\n",
    "    input_array = np.asarray(input_array, dtype=np.uint8)\n",
    "    img_nobg = np.zeros((130,130,4), dtype=np.uint8)\n",
    "\n",
    "    for i in range(img.shape[0]):\n",
    "        for j in range(img.shape[1]):\n",
    "            [r, g, b, a] = input_array[i, j]\n",
    "        \n",
    "            if r==127 and g==0 and b==0 and a==255:\n",
    "                img_nobg[i,j]=255\n",
    "            else:\n",
    "                img_nobg[i,j]=input_array[i,j]\n",
    "        \n",
    "            \n",
    "        image = Image.fromarray(img_nobg, mode='RGBA')\n",
    "        image.save(nobg_img_path)\n",
    "\n",
    "        "
   ]
  },
  {
   "cell_type": "code",
   "execution_count": 1,
   "id": "98edd86a",
   "metadata": {},
   "outputs": [
    {
     "name": "stdout",
     "output_type": "stream",
     "text": [
      "ffmpeg version 3.4.11-0ubuntu0.1 Copyright (c) 2000-2022 the FFmpeg developers\n",
      "  built with gcc 7 (Ubuntu 7.5.0-3ubuntu1~18.04)\n",
      "  configuration: --prefix=/usr --extra-version=0ubuntu0.1 --toolchain=hardened --libdir=/usr/lib/x86_64-linux-gnu --incdir=/usr/include/x86_64-linux-gnu --enable-gpl --disable-stripping --enable-avresample --enable-avisynth --enable-gnutls --enable-ladspa --enable-libass --enable-libbluray --enable-libbs2b --enable-libcaca --enable-libcdio --enable-libflite --enable-libfontconfig --enable-libfreetype --enable-libfribidi --enable-libgme --enable-libgsm --enable-libmp3lame --enable-libmysofa --enable-libopenjpeg --enable-libopenmpt --enable-libopus --enable-libpulse --enable-librubberband --enable-librsvg --enable-libshine --enable-libsnappy --enable-libsoxr --enable-libspeex --enable-libssh --enable-libtheora --enable-libtwolame --enable-libvorbis --enable-libvpx --enable-libwavpack --enable-libwebp --enable-libx265 --enable-libxml2 --enable-libxvid --enable-libzmq --enable-libzvbi --enable-omx --enable-openal --enable-opengl --enable-sdl2 --enable-libdc1394 --enable-libdrm --enable-libiec61883 --enable-chromaprint --enable-frei0r --enable-libopencv --enable-libx264 --enable-shared\n",
      "  libavutil      55. 78.100 / 55. 78.100\n",
      "  libavcodec     57.107.100 / 57.107.100\n",
      "  libavformat    57. 83.100 / 57. 83.100\n",
      "  libavdevice    57. 10.100 / 57. 10.100\n",
      "  libavfilter     6.107.100 /  6.107.100\n",
      "  libavresample   3.  7.  0 /  3.  7.  0\n",
      "  libswscale      4.  8.100 /  4.  8.100\n",
      "  libswresample   2.  9.100 /  2.  9.100\n",
      "  libpostproc    54.  7.100 / 54.  7.100\n",
      "Input #0, image2, from '/home/bru/Dev/DATA/scn2c_take01/take01/images_nobg/*.png':\n",
      "  Duration: 00:00:19.60, start: 0.000000, bitrate: N/A\n",
      "    Stream #0:0: Video: png, rgba(pc), 130x130, 10 fps, 10 tbr, 10 tbn, 10 tbc\n",
      "File '/home/bru/Dev/DATA/scn2c_take01/take01/images_nobg/000_output.avi' already exists. Overwrite ? [y/N] ^C\n"
     ]
    }
   ],
   "source": [
    "!ffmpeg -framerate 10 -pattern_type glob -i '/home/bru/Dev/DATA/scn2c_take01/take01/images_nobg/*.png' -c:v libxvid -q:v 3 '/home/bru/Dev/DATA/scn2c_take01/take01/images_nobg/000_output.avi'"
   ]
  },
  {
   "cell_type": "code",
   "execution_count": null,
   "id": "e633fb85",
   "metadata": {},
   "outputs": [],
   "source": []
  }
 ],
 "metadata": {
  "kernelspec": {
   "display_name": "Python 3 (ipykernel)",
   "language": "python",
   "name": "python3"
  },
  "language_info": {
   "codemirror_mode": {
    "name": "ipython",
    "version": 3
   },
   "file_extension": ".py",
   "mimetype": "text/x-python",
   "name": "python",
   "nbconvert_exporter": "python",
   "pygments_lexer": "ipython3",
   "version": "3.9.7"
  }
 },
 "nbformat": 4,
 "nbformat_minor": 5
}
