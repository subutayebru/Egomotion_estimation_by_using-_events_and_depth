{
 "cells": [
  {
   "cell_type": "code",
   "execution_count": 12,
   "id": "ba5138dc",
   "metadata": {},
   "outputs": [],
   "source": [
    "import os\n",
    "import numpy as np\n",
    "import matplotlib.pyplot as plt\n",
    "from mpl_toolkits.mplot3d import axes3d\n",
    "from scipy.spatial.transform import Rotation as R\n",
    "import file_path\n",
    "import csv"
   ]
  },
  {
   "cell_type": "code",
   "execution_count": 14,
   "id": "251006c8",
   "metadata": {},
   "outputs": [],
   "source": [
    "def plotPose(X, Y, Z, oriX, oriY, oriZ):\n",
    "    fig = plt.figure()\n",
    "    ax = fig.gca(projection='3d')\n",
    "    ax.scatter(X, Y, Z, cmap='jet', marker='.', alpha=1)\n",
    "\n",
    "    #max_axis_range = max(np.max(X) - np.min(X), np.max(Y) - np.min(Y), np.max(Z) - np.min(Z))\n",
    "    i = 0\n",
    "    a = max_axis_range / 20\n",
    "    for i in range(0, X.shape[0], 100):\n",
    "        ax.plot([X[i], X[i] + a * oriX[i, 0]], [Y[i], Y[i] + a * oriX[i, 1]], [Z[i], Z[i] + a * oriX[i, 2]], color='r',\n",
    "                linestyle='-', linewidth=2)\n",
    "        ax.plot([X[i], X[i] + a * oriY[i, 0]], [Y[i], Y[i] + a * oriY[i, 1]], [Z[i], Z[i] + a * oriY[i, 2]], color='g',\n",
    "                linestyle='-', linewidth=2)\n",
    "        ax.plot([X[i], X[i] + a * oriZ[i, 0]], [Y[i], Y[i] + a * oriZ[i, 1]], [Z[i], Z[i] + a * oriZ[i, 2]], color='b',\n",
    "                linestyle='-', linewidth=2)\n",
    "\n",
    "    ax.set_xlabel('X')\n",
    "    ax.set_ylabel('Y')\n",
    "    ax.set_zlabel('Z')\n",
    "    # ax.set_zlim3d([-10, 10])\n",
    "    ax.auto_scale_xyz([np.min(X), np.min(X) + max_axis_range], [np.min(Y), np.min(Y) + max_axis_range],\n",
    "                      [np.min(Z), np.min(Z) + max_axis_range])\n",
    "\n",
    "    plt.show()\n",
    "\n",
    "\n"
   ]
  },
  {
   "cell_type": "code",
   "execution_count": 27,
   "id": "4585ede5",
   "metadata": {},
   "outputs": [
    {
     "name": "stdout",
     "output_type": "stream",
     "text": [
      "[[ 0.06527003 -0.34434943  0.93656996  1.49705888]\n",
      " [-0.96773135 -0.25076507 -0.02475732  0.4157759 ]\n",
      " [ 0.2433842  -0.9047322  -0.34960518  1.28250503]\n",
      " [ 0.          0.          0.          1.        ]]\n",
      "[[1. 0. 0. 0.]\n",
      " [0. 1. 0. 0.]\n",
      " [0. 0. 1. 0.]\n",
      " [0. 0. 0. 1.]]\n",
      "[   0    1    2 ... 2296 2297 2298]\n",
      "[   1    2    3 ... 2296 2297 2298]\n",
      "(2298, 4)\n"
     ]
    },
    {
     "ename": "ValueError",
     "evalue": "Found zero norm quaternions in `quat`.",
     "output_type": "error",
     "traceback": [
      "\u001b[0;31m---------------------------------------------------------------------------\u001b[0m",
      "\u001b[0;31mValueError\u001b[0m                                Traceback (most recent call last)",
      "\u001b[0;32m/tmp/ipykernel_5569/2408170904.py\u001b[0m in \u001b[0;36m<module>\u001b[0;34m\u001b[0m\n\u001b[1;32m     72\u001b[0m \u001b[0munitZ\u001b[0m \u001b[0;34m=\u001b[0m \u001b[0mnp\u001b[0m\u001b[0;34m.\u001b[0m\u001b[0marray\u001b[0m\u001b[0;34m(\u001b[0m\u001b[0;34m[\u001b[0m\u001b[0;36m0\u001b[0m\u001b[0;34m,\u001b[0m \u001b[0;36m0\u001b[0m\u001b[0;34m,\u001b[0m \u001b[0;36m1\u001b[0m\u001b[0;34m]\u001b[0m\u001b[0;34m)\u001b[0m\u001b[0;34m\u001b[0m\u001b[0;34m\u001b[0m\u001b[0m\n\u001b[1;32m     73\u001b[0m \u001b[0;34m\u001b[0m\u001b[0m\n\u001b[0;32m---> 74\u001b[0;31m \u001b[0mrotation_matrices\u001b[0m \u001b[0;34m=\u001b[0m \u001b[0;34m(\u001b[0m\u001b[0mR\u001b[0m\u001b[0;34m.\u001b[0m\u001b[0mfrom_quat\u001b[0m\u001b[0;34m(\u001b[0m\u001b[0mori_section\u001b[0m\u001b[0;34m)\u001b[0m\u001b[0;34m)\u001b[0m\u001b[0;34m.\u001b[0m\u001b[0mas_matrix\u001b[0m\u001b[0;34m(\u001b[0m\u001b[0;34m)\u001b[0m\u001b[0;34m\u001b[0m\u001b[0;34m\u001b[0m\u001b[0m\n\u001b[0m\u001b[1;32m     75\u001b[0m \u001b[0mtransformation_matrices\u001b[0m \u001b[0;34m=\u001b[0m \u001b[0mnp\u001b[0m\u001b[0;34m.\u001b[0m\u001b[0mzeros\u001b[0m\u001b[0;34m(\u001b[0m\u001b[0;34m(\u001b[0m\u001b[0mrotation_matrices\u001b[0m\u001b[0;34m.\u001b[0m\u001b[0mshape\u001b[0m\u001b[0;34m[\u001b[0m\u001b[0;36m0\u001b[0m\u001b[0;34m]\u001b[0m\u001b[0;34m,\u001b[0m \u001b[0;36m4\u001b[0m\u001b[0;34m,\u001b[0m \u001b[0;36m4\u001b[0m\u001b[0;34m)\u001b[0m\u001b[0;34m)\u001b[0m\u001b[0;34m\u001b[0m\u001b[0;34m\u001b[0m\u001b[0m\n\u001b[1;32m     76\u001b[0m \u001b[0;32mfor\u001b[0m \u001b[0mj\u001b[0m \u001b[0;32min\u001b[0m \u001b[0mrange\u001b[0m\u001b[0;34m(\u001b[0m\u001b[0mrotation_matrices\u001b[0m\u001b[0;34m.\u001b[0m\u001b[0mshape\u001b[0m\u001b[0;34m[\u001b[0m\u001b[0;36m0\u001b[0m\u001b[0;34m]\u001b[0m\u001b[0;34m)\u001b[0m\u001b[0;34m:\u001b[0m\u001b[0;34m\u001b[0m\u001b[0;34m\u001b[0m\u001b[0m\n",
      "\u001b[0;32mrotation.pyx\u001b[0m in \u001b[0;36mscipy.spatial.transform.rotation.Rotation.from_quat\u001b[0;34m()\u001b[0m\n",
      "\u001b[0;32mrotation.pyx\u001b[0m in \u001b[0;36mscipy.spatial.transform.rotation.Rotation.__init__\u001b[0;34m()\u001b[0m\n",
      "\u001b[0;31mValueError\u001b[0m: Found zero norm quaternions in `quat`."
     ]
    }
   ],
   "source": [
    "path_prefix = '/home/bru/Dev/DATA/scn2_take01/take01/'\n",
    "file_name = 'evo_gt.txt'\n",
    "full_path = file_path.file_path(path_prefix, file_name)\n",
    "\n",
    "with open('/home/bru/Dev/DATA/scn2_take01/take01/evo_gt.txt', encoding=\"Latin-1\") as csvfile:  #change this according to your file \n",
    "    reader = list(csv.reader(csvfile, delimiter=\" \"))\n",
    "    \n",
    "reader = np.array((reader))\n",
    "reader = reader.astype(float)\n",
    "reader = reader.astype(int)\n",
    "start_t = 0\n",
    "stop_t = reader[-1, 0]\n",
    "# T_lidar_1 = np.array([-0.0078031, 0.817209, 0.541196, 0.917704,\n",
    "#                       -0.117454, -0.572388, 0.727834, 0.48356,\n",
    "#                       0.904633, -0.0673863, 0.100153, -0.665694,\n",
    "#                       0, 0, 0, 1]).reshape((4, 4))\n",
    "T_lidar_0 = np.array([-0.3819, -0.357824, 0.852124, 0.614092, \n",
    "                      -0.847004, -0.233392, -0.477611, -0.322554,\n",
    "                      0.36978, -0.904152, -0.213946, -0.0494612,\n",
    "                      0, 0, 0, 1]).reshape((4, 4))\n",
    "euler_center_baumer = np.array([-89.90413419510571,\n",
    "                                -0.24585344685304605,\n",
    "                                -64.33530496116742])\n",
    "t_center_baumer = np.array([1.4970588815871406,\n",
    "                            0.4157759017823685,\n",
    "                            1.2825050304352636])\n",
    "R_center_baumer = R.from_euler('xyz', euler_center_baumer).as_matrix()\n",
    "\n",
    "T_center_baumer = np.eye(4)\n",
    "T_center_baumer[:3, :3] = R_center_baumer\n",
    "T_center_baumer[:3, 3] = t_center_baumer\n",
    "\n",
    "T_lidar_baumer = np.array([0.06527, -0.344349, 0.93657, 0.947059,\n",
    "                           -0.967731, -0.250765, -0.0247573, 0.415776,\n",
    "                           0.243384, -0.904732, -0.349605, -0.452495,\n",
    "                           0, 0, 0, 1]).reshape((4, 4))\n",
    "\n",
    "T_baumer_1 = np.array([0.9101440571262656, -0.05112656051741041, 0.41112512704455406, -0.216258895905397,\n",
    "                       0.04647405104554883, 0.9986921401911144, 0.021311304509745152, -0.05954830294291894,\n",
    "                       -0.41167700671419194, -0.00028970700877638776, 0.9113297746769236, 0.024422175420170375,\n",
    "                       0, 0, 0, 1]).reshape((4,4))\n",
    "\n",
    "T_baumer_1[:3, :3] = np.eye(3)\n",
    "rotvec = R.from_matrix(T_lidar_baumer[:3, :3]).as_rotvec()\n",
    "T_hand_eye = np.identity(4) \n",
    "\n",
    "print(T_center_baumer.astype(np.float64))\n",
    "print(T_hand_eye.astype(np.float64))\n",
    "\n",
    "pos_time = reader[:, 0]\n",
    "print(pos_time)\n",
    "pos = reader[:, 1:4]\n",
    "ori = reader[:, 4:]\n",
    "\n",
    "start_id = np.searchsorted(pos_time, start_t)\n",
    "stop_id = np.searchsorted(pos_time, stop_t)\n",
    "\n",
    "start_id = 1\n",
    "stop_id = 60\n",
    "stop_id = pos_time.shape[0]\n",
    "\n",
    "X = reader[start_id:stop_id, 0]\n",
    "Y = reader[start_id:stop_id, 1]\n",
    "Z = reader[start_id:stop_id, 2]\n",
    "print(X)\n",
    "t = pos_time[start_id: stop_id]\n",
    "\n",
    "ori_section = ori[start_id:stop_id, :]\n",
    "print(ori_section.shape)\n",
    "unitX = np.array([1, 0, 0])\n",
    "unitY = np.array([0, 1, 0])\n",
    "unitZ = np.array([0, 0, 1])\n",
    "\n",
    "rotation_matrices = (R.from_quat(ori_section)).as_matrix()\n",
    "transformation_matrices = np.zeros((rotation_matrices.shape[0], 4, 4))\n",
    "for j in range(rotation_matrices.shape[0]):\n",
    "    rotation_matrices[j, :, :] = rotation_matrices[j, :, :] @ T_hand_eye[:3, :3]\n",
    "\n",
    "oriX = rotation_matrices[:, :, 0]\n",
    "oriY = rotation_matrices[:, :, 1]\n",
    "oriZ = rotation_matrices[:, :, 2]\n"
   ]
  },
  {
   "cell_type": "code",
   "execution_count": 28,
   "id": "12765859",
   "metadata": {},
   "outputs": [
    {
     "name": "stderr",
     "output_type": "stream",
     "text": [
      "/tmp/ipykernel_5569/3700034240.py:3: MatplotlibDeprecationWarning: Calling gca() with keyword arguments was deprecated in Matplotlib 3.4. Starting two minor releases later, gca() will take no keyword arguments. The gca() function should only be used to get the current axes, or if no axes exist, create new axes with default keyword arguments. To create a new axes with non-default arguments, use plt.axes() or plt.subplot().\n",
      "  ax = fig.gca(projection='3d')\n"
     ]
    },
    {
     "data": {
      "image/png": "[encoded data removed]",
      "text/plain": [
       "<Figure size 432x288 with 1 Axes>"
      ]
     },
     "metadata": {
      "needs_background": "light"
     },
     "output_type": "display_data"
    }
   ],
   "source": [
    "plotPose(X, Y, Z, oriX, oriY, oriZ)\n"
   ]
  },
  {
   "cell_type": "code",
   "execution_count": null,
   "id": "4b103dbe",
   "metadata": {},
   "outputs": [],
   "source": []
  }
 ],
 "metadata": {
  "kernelspec": {
   "display_name": "Python 3 (ipykernel)",
   "language": "python",
   "name": "python3"
  },
  "language_info": {
   "codemirror_mode": {
    "name": "ipython",
    "version": 3
   },
   "file_extension": ".py",
   "mimetype": "text/x-python",
   "name": "python",
   "nbconvert_exporter": "python",
   "pygments_lexer": "ipython3",
   "version": "3.9.7"
  }
 },
 "nbformat": 4,
 "nbformat_minor": 5
}
